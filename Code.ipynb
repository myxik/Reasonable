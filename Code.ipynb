{
 "cells": [
  {
   "cell_type": "code",
   "execution_count": 1,
   "metadata": {},
   "outputs": [],
   "source": [
    "import torchvision\n",
    "import torchvision.transforms as transforms\n",
    "import torch.nn as nn\n",
    "from torch.nn import functional as F\n",
    "import torch\n",
    "import torch.optim as optim\n",
    "import numpy as np\n",
    "from sklearn.metrics import accuracy_score\n",
    "import matplotlib.pyplot as plt\n",
    "import random"
   ]
  },
  {
   "cell_type": "markdown",
   "metadata": {},
   "source": [
    "## Using spatial features reasoning in semisupervised learning"
   ]
  },
  {
   "cell_type": "code",
   "execution_count": 2,
   "metadata": {},
   "outputs": [
    {
     "data": {
      "text/plain": [
       "torch.Size([1, 28, 28])"
      ]
     },
     "execution_count": 2,
     "metadata": {},
     "output_type": "execute_result"
    }
   ],
   "source": [
    "transform = transforms.Compose([\n",
    "            transforms.ToTensor(),\n",
    "            transforms.Normalize([0.5], [0.5])\n",
    "])\n",
    "trainset = torchvision.datasets.MNIST(root='./data', transform=transform, train=True, download=True)\n",
    "trainloader = torch.utils.data.DataLoader(trainset, batch_size=32,\n",
    "                                         shuffle=True, num_workers=2)\n",
    "testset = torchvision.datasets.MNIST(root='./data', transform=transform, train=False, download=True)\n",
    "testloader = torch.utils.data.DataLoader(testset, batch_size=32,\n",
    "                                        shuffle=False, num_workers=2)\n",
    "trainset[0][0].shape"
   ]
  },
  {
   "cell_type": "code",
   "execution_count": 3,
   "metadata": {},
   "outputs": [],
   "source": [
    "class Dataset(torch.utils.data.Dataset):\n",
    "    def __init__(self):\n",
    "        self.dataset = []\n",
    "        for i in range(6000):\n",
    "            self.dataset.append((torch.rand((1, 28, 28)), 10))\n",
    "        for i in range(len(trainset)):\n",
    "            self.dataset.append(trainset[i])\n",
    "        \n",
    "    def __len__(self):\n",
    "        return len(self.dataset)\n",
    "    \n",
    "    def __getitem__(self, idx):\n",
    "        return self.dataset[idx]\n",
    "\n",
    "traindata = Dataset()"
   ]
  },
  {
   "cell_type": "code",
   "execution_count": 4,
   "metadata": {},
   "outputs": [],
   "source": [
    "batch_size = 64"
   ]
  },
  {
   "cell_type": "code",
   "execution_count": 5,
   "metadata": {},
   "outputs": [],
   "source": [
    "trainloader = torch.utils.data.DataLoader(traindata, batch_size=batch_size, shuffle=True)"
   ]
  },
  {
   "cell_type": "code",
   "execution_count": 6,
   "metadata": {},
   "outputs": [],
   "source": [
    "class ON(nn.Module):\n",
    "    def __init__(self):\n",
    "        super(ON, self).__init__()\n",
    "        self.conv1 = nn.Conv2d(1, 32, 3, 1)\n",
    "        self.conv2 = nn.Conv2d(32, 32, 4, 2)\n",
    "        self.conv3 = nn.Conv2d(32, 32, 5, 1)\n",
    "        self.flat = nn.Flatten()\n",
    "        self.relu = F.relu\n",
    "        self.fc1 = nn.Linear(2048, 1024)\n",
    "        \n",
    "    def forward(self, x):\n",
    "        x = self.relu(self.conv1(x))\n",
    "        x = self.relu(self.conv2(x))\n",
    "        x = self.relu(self.conv3(x))\n",
    "        x = self.flat(x)\n",
    "        x = self.relu(self.fc1(x))\n",
    "        return x\n",
    "    \n",
    "class RN(nn.Module):\n",
    "    def __init__(self):\n",
    "        super(RN, self).__init__()\n",
    "        self.fc1 = nn.Linear(784, 256)\n",
    "        \n",
    "    def forward(self, x):\n",
    "        x = x.view(x.shape[0], -1)\n",
    "        x = F.relu(self.fc1(x))\n",
    "        return x\n",
    "    \n",
    "class NN(nn.Module):\n",
    "    def __init__(self):\n",
    "        super(NN, self).__init__()\n",
    "        self.classif = ON()\n",
    "        self.discrim = RN()\n",
    "        self.fc = nn.Linear(1280, 512)\n",
    "        self.fcc = nn.Linear(512, 11)\n",
    "        \n",
    "    def forward(self, x):\n",
    "        o1 = self.classif(x)\n",
    "        o2 = self.discrim(x)\n",
    "        x = torch.cat((o1, o2), 1)\n",
    "        x = x.to(device)\n",
    "        x = self.fc(x)\n",
    "        x = F.relu(self.fcc(x))\n",
    "        return x\n",
    "    \n",
    "model = NN()"
   ]
  },
  {
   "cell_type": "code",
   "execution_count": 7,
   "metadata": {},
   "outputs": [
    {
     "data": {
      "text/plain": [
       "NN(\n",
       "  (classif): ON(\n",
       "    (conv1): Conv2d(1, 32, kernel_size=(3, 3), stride=(1, 1))\n",
       "    (conv2): Conv2d(32, 32, kernel_size=(4, 4), stride=(2, 2))\n",
       "    (conv3): Conv2d(32, 32, kernel_size=(5, 5), stride=(1, 1))\n",
       "    (flat): Flatten()\n",
       "    (fc1): Linear(in_features=2048, out_features=1024, bias=True)\n",
       "  )\n",
       "  (discrim): RN(\n",
       "    (fc1): Linear(in_features=784, out_features=256, bias=True)\n",
       "  )\n",
       "  (fc): Linear(in_features=1280, out_features=512, bias=True)\n",
       "  (fcc): Linear(in_features=512, out_features=11, bias=True)\n",
       ")"
      ]
     },
     "execution_count": 7,
     "metadata": {},
     "output_type": "execute_result"
    }
   ],
   "source": [
    "device = torch.device(\"cuda:0\")\n",
    "model.to(device)"
   ]
  },
  {
   "cell_type": "code",
   "execution_count": 9,
   "metadata": {},
   "outputs": [],
   "source": [
    "optimizer = optim.Adam(model.parameters(), lr=1e-5)\n",
    "criterion = nn.CrossEntropyLoss()"
   ]
  },
  {
   "cell_type": "code",
   "execution_count": 10,
   "metadata": {},
   "outputs": [
    {
     "name": "stdout",
     "output_type": "stream",
     "text": [
      "Epoch elapsed loss is 1.0407235994646253\n",
      "Epoch elapsed loss is 0.5391231555953737\n",
      "Epoch elapsed loss is 0.4738184461846601\n",
      "Epoch elapsed loss is 0.4191974955069464\n",
      "Epoch elapsed loss is 0.3796405747330697\n",
      "Epoch elapsed loss is 0.35319751662079446\n",
      "Epoch elapsed loss is 0.3351145379981676\n",
      "Epoch elapsed loss is 0.3219764633609574\n",
      "Epoch elapsed loss is 0.3129113948932856\n",
      "Epoch elapsed loss is 0.3052979503982058\n"
     ]
    }
   ],
   "source": [
    "running_loss_i = []\n",
    "running_loss_e = []\n",
    "\n",
    "for i in range(10):\n",
    "    total_loss = 0\n",
    "    \n",
    "    for images, labels in trainloader:\n",
    "        images = images.to(device); labels = labels.to(device)\n",
    "        \n",
    "        optimizer.zero_grad()\n",
    "        outputs = model(images)\n",
    "        loss = criterion(outputs, labels)\n",
    "        loss.backward()\n",
    "        optimizer.step()\n",
    "        \n",
    "        running_loss_i.append(loss.item())\n",
    "        total_loss += loss.item()\n",
    "        \n",
    "    running_loss_e.append(total_loss/len(trainloader))\n",
    "    print(\"Epoch elapsed loss is {}\".format(total_loss/len(trainloader)))"
   ]
  },
  {
   "cell_type": "code",
   "execution_count": 11,
   "metadata": {},
   "outputs": [
    {
     "data": {
      "image/png": "[encoded data removed]",
      "text/plain": [
       "<Figure size 432x288 with 1 Axes>"
      ]
     },
     "metadata": {
      "needs_background": "light"
     },
     "output_type": "display_data"
    }
   ],
   "source": [
    "plt.plot(np.arange(len(running_loss_i[:200])), running_loss_i[:200], label='Loss on each item')\n",
    "plt.legend()\n",
    "plt.ylabel(\"loss\")\n",
    "plt.ylim(ymax=2.5)\n",
    "plt.xlabel(\"iterations\")\n",
    "plt.savefig(\"Loss per iteration_spatial.png\")"
   ]
  },
  {
   "cell_type": "code",
   "execution_count": 12,
   "metadata": {},
   "outputs": [
    {
     "data": {
      "image/png": "[encoded data removed]",
      "text/plain": [
       "<Figure size 432x288 with 1 Axes>"
      ]
     },
     "metadata": {
      "needs_background": "light"
     },
     "output_type": "display_data"
    }
   ],
   "source": [
    "plt.plot(np.arange(len(running_loss_e)), running_loss_e, label='Loss after each epoch')\n",
    "plt.ylabel(\"Loss\")\n",
    "plt.xlabel(\"Epoch\")\n",
    "plt.title('ReasonNet')\n",
    "plt.savefig('reasonet.jpg')\n",
    "plt.savefig(\"Loss per epoch spatial.png\")"
   ]
  },
  {
   "cell_type": "code",
   "execution_count": 13,
   "metadata": {},
   "outputs": [
    {
     "name": "stdout",
     "output_type": "stream",
     "text": [
      "Final loss 0.30255822681410366\n"
     ]
    }
   ],
   "source": [
    "class Testdataset(torch.utils.data.Dataset):\n",
    "    def __init__(self):\n",
    "        self.dataset = []\n",
    "        for i in range(1000):\n",
    "            self.dataset.append((torch.rand((1, 28, 28)), 10))\n",
    "        for i in range(len(testset)):\n",
    "            self.dataset.append(testset[i])\n",
    "        \n",
    "    def __len__(self):\n",
    "        return len(self.dataset)\n",
    "    \n",
    "    def __getitem__(self, idx):\n",
    "        return self.dataset[idx]\n",
    "\n",
    "testdata = Testdataset()\n",
    "testloader = torch.utils.data.DataLoader(testdata, batch_size=batch_size, shuffle=False)\n",
    "model.eval()\n",
    "loss_on_test = 0\n",
    "for images, labels in testloader:\n",
    "    images = images.to(device); labels = labels.to(device)\n",
    "    outputs = model(images)\n",
    "    loss = criterion(outputs, labels)\n",
    "    loss_on_test += loss.item()\n",
    "print(\"Final loss {}\".format(loss_on_test/len(testloader)))"
   ]
  },
  {
   "cell_type": "code",
   "execution_count": 14,
   "metadata": {},
   "outputs": [],
   "source": [
    "torch.save(model.state_dict(), 'net.pth')"
   ]
  },
  {
   "cell_type": "code",
   "execution_count": null,
   "metadata": {},
   "outputs": [],
   "source": []
  },
  {
   "cell_type": "code",
   "execution_count": null,
   "metadata": {},
   "outputs": [],
   "source": []
  },
  {
   "cell_type": "markdown",
   "metadata": {},
   "source": [
    "## Building a supervised reasoning network"
   ]
  },
  {
   "cell_type": "code",
   "execution_count": 2,
   "metadata": {},
   "outputs": [],
   "source": [
    "transform = transforms.Compose([\n",
    "            transforms.ToTensor(),\n",
    "            transforms.Normalize([0.5], [0.5])\n",
    "])\n",
    "\n",
    "trainset = torchvision.datasets.MNIST(root='./data', transform=transform, train=True, download=True)\n",
    "trainloader = torch.utils.data.DataLoader(trainset, batch_size=32, shuffle=True, num_workers=2)\n",
    "\n",
    "testset = torchvision.datasets.MNIST(root='./data', transform=transform, train=False, download=True)\n",
    "testloader = torch.utils.data.DataLoader(testset, batch_size=32, shuffle=False, num_workers=2)"
   ]
  },
  {
   "cell_type": "code",
   "execution_count": 3,
   "metadata": {},
   "outputs": [],
   "source": [
    "class VN(nn.Module):\n",
    "    def __init__(self):\n",
    "        super(VN, self).__init__()\n",
    "        self.flat = nn.Flatten()\n",
    "        self.fc1 = nn.Linear(784, 256, bias=False)\n",
    "        self.fc2 = nn.Linear(256, 10, bias=False)\n",
    "        \n",
    "    def forward(self, x):\n",
    "        x = self.flat(x)\n",
    "        x = self.fc1(x)\n",
    "        x = self.fc2(x)\n",
    "        return x\n",
    "    \n",
    "    def get_weights(self, i):\n",
    "        return self.fc2.weight[i]\n",
    "#get weight 256, 0 -> reasoning for 0. weight 256, 1 -> reasoning for 1 and so on"
   ]
  },
  {
   "cell_type": "code",
   "execution_count": 4,
   "metadata": {},
   "outputs": [],
   "source": [
    "class Reasonable(nn.Module):\n",
    "    def __init__(self):\n",
    "        super(Reasonable, self).__init__()\n",
    "        self.conv1 = nn.Conv2d(1, 32, 3, 1)\n",
    "        self.conv2 = nn.Conv2d(32, 32, 4, 2)\n",
    "        self.conv3 = nn.Conv2d(32, 32, 5, 1)\n",
    "        self.flat = nn.Flatten()\n",
    "        self.relu = F.relu\n",
    "        self.fc1 = nn.Linear(2048, 1024)\n",
    "        self.fc2 = nn.Linear(1024, 256)\n",
    "        \n",
    "    def forward(self, x):\n",
    "        x = self.relu(self.conv1(x))\n",
    "        x = self.relu(self.conv2(x))\n",
    "        x = self.relu(self.conv3(x))\n",
    "        x = self.flat(x)\n",
    "        x = self.fc1(x)\n",
    "        x = self.fc2(x)\n",
    "        return x\n",
    "#For reasoning net input -> image output->reason vector loss MSE"
   ]
  },
  {
   "cell_type": "code",
   "execution_count": 5,
   "metadata": {},
   "outputs": [],
   "source": [
    "device = torch.device(\"cuda:0\")"
   ]
  },
  {
   "cell_type": "markdown",
   "metadata": {},
   "source": [
    "### 10 epochs"
   ]
  },
  {
   "cell_type": "code",
   "execution_count": 6,
   "metadata": {},
   "outputs": [
    {
     "data": {
      "text/plain": [
       "VN(\n",
       "  (flat): Flatten()\n",
       "  (fc1): Linear(in_features=784, out_features=256, bias=False)\n",
       "  (fc2): Linear(in_features=256, out_features=10, bias=False)\n",
       ")"
      ]
     },
     "execution_count": 6,
     "metadata": {},
     "output_type": "execute_result"
    }
   ],
   "source": [
    "model_VN = VN()\n",
    "model_VN.to(device)"
   ]
  },
  {
   "cell_type": "code",
   "execution_count": 7,
   "metadata": {},
   "outputs": [
    {
     "data": {
      "text/plain": [
       "Reasonable(\n",
       "  (conv1): Conv2d(1, 32, kernel_size=(3, 3), stride=(1, 1))\n",
       "  (conv2): Conv2d(32, 32, kernel_size=(4, 4), stride=(2, 2))\n",
       "  (conv3): Conv2d(32, 32, kernel_size=(5, 5), stride=(1, 1))\n",
       "  (flat): Flatten()\n",
       "  (fc1): Linear(in_features=2048, out_features=1024, bias=True)\n",
       "  (fc2): Linear(in_features=1024, out_features=256, bias=True)\n",
       ")"
      ]
     },
     "execution_count": 7,
     "metadata": {},
     "output_type": "execute_result"
    }
   ],
   "source": [
    "model_Reasonable = Reasonable()\n",
    "model_Reasonable.to(device)"
   ]
  },
  {
   "cell_type": "code",
   "execution_count": 8,
   "metadata": {},
   "outputs": [
    {
     "name": "stdout",
     "output_type": "stream",
     "text": [
      "Epoch 0:\n",
      "    VN loss: 1.2974453901608785\n",
      "    Reasonable loss: 0.0005424054777792965\n",
      "\n",
      "Epoch 1:\n",
      "    VN loss: 0.615260392109553\n",
      "    Reasonable loss: 0.0003171635933375607\n",
      "\n",
      "Epoch 2:\n",
      "    VN loss: 0.4631588597218196\n",
      "    Reasonable loss: 0.00028351464334409686\n",
      "\n",
      "Epoch 3:\n",
      "    VN loss: 0.4040105531334877\n",
      "    Reasonable loss: 0.00026537695061415434\n",
      "\n",
      "Epoch 4:\n",
      "    VN loss: 0.373593112107118\n",
      "    Reasonable loss: 0.0002527667190646753\n",
      "\n",
      "Epoch 5:\n",
      "    VN loss: 0.35505754426717756\n",
      "    Reasonable loss: 0.00024352612326620146\n",
      "\n",
      "Epoch 6:\n",
      "    VN loss: 0.34245874398946763\n",
      "    Reasonable loss: 0.00023642640428539987\n",
      "\n",
      "Epoch 7:\n",
      "    VN loss: 0.33286518438657126\n",
      "    Reasonable loss: 0.0002305976598096701\n",
      "\n",
      "Epoch 8:\n",
      "    VN loss: 0.32556001110871635\n",
      "    Reasonable loss: 0.0002258251814249282\n",
      "\n",
      "Epoch 9:\n",
      "    VN loss: 0.31961363051732383\n",
      "    Reasonable loss: 0.00022172580594196915\n",
      "\n"
     ]
    }
   ],
   "source": [
    "optimizer_VN = optim.Adam(model_VN.parameters(), lr=1e-5)\n",
    "criterion_VN = nn.CrossEntropyLoss()\n",
    "running_loss_i_VN = []\n",
    "running_loss_e_VN = []\n",
    "\n",
    "optimizer_Reasonable = optim.Adam(model_Reasonable.parameters(), lr=1e-5)\n",
    "criterion_Reasonable = nn.MSELoss()\n",
    "running_loss_i_Reasonable = []\n",
    "running_loss_e_Reasonable = []\n",
    "\n",
    "for i in range(10):\n",
    "    total_loss_VN = 0\n",
    "    total_loss_Reasonable = 0\n",
    "    \n",
    "    for images, labels in trainloader:\n",
    "        images = images.to(device); labels = labels.to(device)\n",
    "        \n",
    "        optimizer_VN.zero_grad()\n",
    "        outputs_VN = model_VN(images)\n",
    "        loss_VN = criterion_VN(outputs_VN, labels)\n",
    "        loss_VN.backward()\n",
    "        optimizer_VN.step()\n",
    "        \n",
    "        running_loss_i_VN.append(loss_VN.item())\n",
    "        total_loss_VN += loss_VN.item()\n",
    "        \n",
    "        labels_Reasonable = []\n",
    "        for label in labels:\n",
    "            labels_Reasonable.append(model_VN.get_weights(label))\n",
    "\n",
    "        labels = torch.stack(labels_Reasonable)\n",
    "        \n",
    "        optimizer_Reasonable.zero_grad()\n",
    "        outputs_Reasonable = model_Reasonable(images)\n",
    "        loss_Reasonable = criterion_Reasonable(outputs_Reasonable, labels)\n",
    "        loss_Reasonable.backward()\n",
    "        optimizer_Reasonable.step()\n",
    "        \n",
    "        running_loss_i_Reasonable.append(loss_Reasonable.item())\n",
    "        total_loss_Reasonable += loss_Reasonable.item()\n",
    "\n",
    "    running_loss_e_VN.append(total_loss_VN/len(trainloader))\n",
    "    running_loss_e_Reasonable.append(total_loss_Reasonable/len(trainloader))\n",
    "    \n",
    "    print(\"Epoch {}:\".format(i))\n",
    "    print(\"    VN loss: {}\".format(total_loss_VN/len(trainloader)))\n",
    "    print(\"    Reasonable loss: {}\\n\".format(total_loss_Reasonable/len(trainloader)))"
   ]
  },
  {
   "cell_type": "code",
   "execution_count": 9,
   "metadata": {},
   "outputs": [
    {
     "data": {
      "image/png": "[encoded data removed]",
      "text/plain": [
       "<Figure size 432x288 with 1 Axes>"
      ]
     },
     "metadata": {
      "needs_background": "light"
     },
     "output_type": "display_data"
    }
   ],
   "source": [
    "plt.plot(np.arange(len(running_loss_e_Reasonable)), running_loss_e_Reasonable, label='Loss after each epoch')\n",
    "plt.ylabel(\"Loss\")\n",
    "plt.xlabel(\"Epoch\")\n",
    "plt.title(\"Reasonable\")\n",
    "plt.savefig(\"Loss per epoch Reasonable_10_epochs.png\")"
   ]
  },
  {
   "cell_type": "code",
   "execution_count": 10,
   "metadata": {},
   "outputs": [
    {
     "data": {
      "image/png": "[encoded data removed]",
      "text/plain": [
       "<Figure size 432x288 with 1 Axes>"
      ]
     },
     "metadata": {
      "needs_background": "light"
     },
     "output_type": "display_data"
    }
   ],
   "source": [
    "plt.plot(np.arange(len(running_loss_e_VN)), running_loss_e_VN, label='Loss after each epoch')\n",
    "plt.ylabel(\"Loss\")\n",
    "plt.xlabel(\"Epoch\")\n",
    "plt.title(\"Vanilla\")\n",
    "plt.savefig(\"Loss per epoch Vanilla_10_epochs.png\")"
   ]
  },
  {
   "cell_type": "code",
   "execution_count": 11,
   "metadata": {},
   "outputs": [
    {
     "data": {
      "image/png": "[encoded data removed]",
      "text/plain": [
       "<Figure size 432x288 with 1 Axes>"
      ]
     },
     "metadata": {
      "needs_background": "light"
     },
     "output_type": "display_data"
    }
   ],
   "source": [
    "plt.plot(np.arange(len(running_loss_i_Reasonable)), running_loss_i_Reasonable, label='Loss after each iteration')\n",
    "plt.ylabel(\"Loss\")\n",
    "plt.xlabel(\"Iteration\")\n",
    "plt.title(\"Reasonable\")\n",
    "plt.savefig(\"Loss per iteration Reasonable_10_epochs.png\")"
   ]
  },
  {
   "cell_type": "code",
   "execution_count": 12,
   "metadata": {},
   "outputs": [
    {
     "data": {
      "image/png": "[encoded data removed]",
      "text/plain": [
       "<Figure size 432x288 with 1 Axes>"
      ]
     },
     "metadata": {
      "needs_background": "light"
     },
     "output_type": "display_data"
    }
   ],
   "source": [
    "plt.plot(np.arange(len(running_loss_i_VN)), running_loss_i_VN, label='Loss after each iteration')\n",
    "plt.ylabel(\"Loss\")\n",
    "plt.xlabel(\"Iteration\")\n",
    "plt.title(\"Vanilla\")\n",
    "plt.savefig(\"Loss per iteration Vanilla_10_epochs.png\")"
   ]
  },
  {
   "cell_type": "markdown",
   "metadata": {},
   "source": [
    "### 30 epochs"
   ]
  },
  {
   "cell_type": "code",
   "execution_count": 26,
   "metadata": {},
   "outputs": [
    {
     "data": {
      "text/plain": [
       "VN(\n",
       "  (flat): Flatten()\n",
       "  (fc1): Linear(in_features=784, out_features=256, bias=False)\n",
       "  (fc2): Linear(in_features=256, out_features=10, bias=False)\n",
       ")"
      ]
     },
     "execution_count": 26,
     "metadata": {},
     "output_type": "execute_result"
    }
   ],
   "source": [
    "model_VN = VN()\n",
    "model_VN.to(device)"
   ]
  },
  {
   "cell_type": "code",
   "execution_count": 27,
   "metadata": {},
   "outputs": [
    {
     "data": {
      "text/plain": [
       "Reasonable(\n",
       "  (conv1): Conv2d(1, 32, kernel_size=(3, 3), stride=(1, 1))\n",
       "  (conv2): Conv2d(32, 32, kernel_size=(4, 4), stride=(2, 2))\n",
       "  (conv3): Conv2d(32, 32, kernel_size=(5, 5), stride=(1, 1))\n",
       "  (flat): Flatten()\n",
       "  (fc1): Linear(in_features=2048, out_features=1024, bias=True)\n",
       "  (fc2): Linear(in_features=1024, out_features=256, bias=True)\n",
       ")"
      ]
     },
     "execution_count": 27,
     "metadata": {},
     "output_type": "execute_result"
    }
   ],
   "source": [
    "model_Reasonable = Reasonable()\n",
    "model_Reasonable.to(device)"
   ]
  },
  {
   "cell_type": "code",
   "execution_count": 28,
   "metadata": {},
   "outputs": [
    {
     "name": "stdout",
     "output_type": "stream",
     "text": [
      "Epoch 0:\n",
      "    VN loss: 1.297465927441915\n",
      "    Reasonable loss: 0.0005538699873257429\n",
      "\n",
      "Epoch 1:\n",
      "    VN loss: 0.6147496287345886\n",
      "    Reasonable loss: 0.00032168767330391953\n",
      "\n",
      "Epoch 2:\n",
      "    VN loss: 0.4632677806933721\n",
      "    Reasonable loss: 0.0002888330677524209\n",
      "\n",
      "Epoch 3:\n",
      "    VN loss: 0.4040098528146744\n",
      "    Reasonable loss: 0.00027152408266362425\n",
      "\n",
      "Epoch 4:\n",
      "    VN loss: 0.3733727769255638\n",
      "    Reasonable loss: 0.00025946447709963345\n",
      "\n",
      "Epoch 5:\n",
      "    VN loss: 0.35466810432275137\n",
      "    Reasonable loss: 0.0002500841995778804\n",
      "\n",
      "Epoch 6:\n",
      "    VN loss: 0.3417338376243909\n",
      "    Reasonable loss: 0.0002429043231648393\n",
      "\n",
      "Epoch 7:\n",
      "    VN loss: 0.3323696790496508\n",
      "    Reasonable loss: 0.0002373389026732184\n",
      "\n",
      "Epoch 8:\n",
      "    VN loss: 0.32497452901204427\n",
      "    Reasonable loss: 0.000232631258716962\n",
      "\n",
      "Epoch 9:\n",
      "    VN loss: 0.319375199453036\n",
      "    Reasonable loss: 0.00022868815559583404\n",
      "\n",
      "Epoch 10:\n",
      "    VN loss: 0.3145486102382342\n",
      "    Reasonable loss: 0.00022530889093565445\n",
      "\n",
      "Epoch 11:\n",
      "    VN loss: 0.310327297214667\n",
      "    Reasonable loss: 0.00022278162804820263\n",
      "\n",
      "Epoch 12:\n",
      "    VN loss: 0.3069958930214246\n",
      "    Reasonable loss: 0.00022022099101062244\n",
      "\n",
      "Epoch 13:\n",
      "    VN loss: 0.30402812051375705\n",
      "    Reasonable loss: 0.0002180972718827737\n",
      "\n",
      "Epoch 14:\n",
      "    VN loss: 0.30116847134828567\n",
      "    Reasonable loss: 0.00021598148208965237\n",
      "\n",
      "Epoch 15:\n",
      "    VN loss: 0.2989825148065885\n",
      "    Reasonable loss: 0.00021436667259549722\n",
      "\n",
      "Epoch 16:\n",
      "    VN loss: 0.29661736698547997\n",
      "    Reasonable loss: 0.00021239502652703473\n",
      "\n",
      "Epoch 17:\n",
      "    VN loss: 0.294986328959465\n",
      "    Reasonable loss: 0.0002113518679824968\n",
      "\n",
      "Epoch 18:\n",
      "    VN loss: 0.2931365056475004\n",
      "    Reasonable loss: 0.00020979572715392958\n",
      "\n",
      "Epoch 19:\n",
      "    VN loss: 0.29146718764305113\n",
      "    Reasonable loss: 0.0002085005288555597\n",
      "\n",
      "Epoch 20:\n",
      "    VN loss: 0.29000148091316225\n",
      "    Reasonable loss: 0.0002075502531719394\n",
      "\n",
      "Epoch 21:\n",
      "    VN loss: 0.28835422685543693\n",
      "    Reasonable loss: 0.0002063123427874719\n",
      "\n",
      "Epoch 22:\n",
      "    VN loss: 0.28737948125600815\n",
      "    Reasonable loss: 0.0002054189529560972\n",
      "\n",
      "Epoch 23:\n",
      "    VN loss: 0.28610381080706915\n",
      "    Reasonable loss: 0.00020420050237638255\n",
      "\n",
      "Epoch 24:\n",
      "    VN loss: 0.28503505322138467\n",
      "    Reasonable loss: 0.0002033232489367947\n",
      "\n",
      "Epoch 25:\n",
      "    VN loss: 0.2838622156858444\n",
      "    Reasonable loss: 0.0002024443362800715\n",
      "\n",
      "Epoch 26:\n",
      "    VN loss: 0.2830790116906166\n",
      "    Reasonable loss: 0.00020160733105925222\n",
      "\n",
      "Epoch 27:\n",
      "    VN loss: 0.2819576726078987\n",
      "    Reasonable loss: 0.00020077195093035698\n",
      "\n",
      "Epoch 28:\n",
      "    VN loss: 0.2810532475034396\n",
      "    Reasonable loss: 0.0001997926992441838\n",
      "\n",
      "Epoch 29:\n",
      "    VN loss: 0.280235097070535\n",
      "    Reasonable loss: 0.0001993553866050206\n",
      "\n"
     ]
    }
   ],
   "source": [
    "optimizer_VN = optim.Adam(model_VN.parameters(), lr=1e-5)\n",
    "criterion_VN = nn.CrossEntropyLoss()\n",
    "running_loss_i_VN = []\n",
    "running_loss_e_VN = []\n",
    "\n",
    "optimizer_Reasonable = optim.Adam(model_Reasonable.parameters(), lr=1e-5)\n",
    "criterion_Reasonable = nn.MSELoss()\n",
    "running_loss_i_Reasonable = []\n",
    "running_loss_e_Reasonable = []\n",
    "\n",
    "for i in range(30):\n",
    "    total_loss_VN = 0\n",
    "    total_loss_Reasonable = 0\n",
    "    \n",
    "    for images, labels in trainloader:\n",
    "        images = images.to(device); labels = labels.to(device)\n",
    "        \n",
    "        optimizer_VN.zero_grad()\n",
    "        outputs_VN = model_VN(images)\n",
    "        loss_VN = criterion_VN(outputs_VN, labels)\n",
    "        loss_VN.backward()\n",
    "        optimizer_VN.step()\n",
    "        \n",
    "        running_loss_i_VN.append(loss_VN.item())\n",
    "        total_loss_VN += loss_VN.item()\n",
    "        \n",
    "        labels_Reasonable = []\n",
    "        for label in labels:\n",
    "            labels_Reasonable.append(model_VN.get_weights(label))\n",
    "\n",
    "        labels = torch.stack(labels_Reasonable)\n",
    "        \n",
    "        optimizer_Reasonable.zero_grad()\n",
    "        outputs_Reasonable = model_Reasonable(images)\n",
    "        loss_Reasonable = criterion_Reasonable(outputs_Reasonable, labels)\n",
    "        loss_Reasonable.backward()\n",
    "        optimizer_Reasonable.step()\n",
    "        \n",
    "        running_loss_i_Reasonable.append(loss_Reasonable.item())\n",
    "        total_loss_Reasonable += loss_Reasonable.item()\n",
    "\n",
    "    running_loss_e_VN.append(total_loss_VN/len(trainloader))\n",
    "    running_loss_e_Reasonable.append(total_loss_Reasonable/len(trainloader))\n",
    "    \n",
    "    print(\"Epoch {}:\".format(i))\n",
    "    print(\"    VN loss: {}\".format(total_loss_VN/len(trainloader)))\n",
    "    print(\"    Reasonable loss: {}\\n\".format(total_loss_Reasonable/len(trainloader)))"
   ]
  },
  {
   "cell_type": "code",
   "execution_count": 29,
   "metadata": {},
   "outputs": [
    {
     "data": {
      "image/png": "[encoded data removed]",
      "text/plain": [
       "<Figure size 432x288 with 1 Axes>"
      ]
     },
     "metadata": {
      "needs_background": "light"
     },
     "output_type": "display_data"
    }
   ],
   "source": [
    "plt.plot(np.arange(len(running_loss_e_Reasonable)), running_loss_e_Reasonable, label='Loss after each epoch')\n",
    "plt.ylabel(\"Loss\")\n",
    "plt.xlabel(\"Epoch\")\n",
    "plt.title(\"Reasonable\")\n",
    "plt.savefig('reasonable.jpg')\n",
    "plt.savefig(\"Loss per epoch Reasonable_30_epochs.png\")"
   ]
  },
  {
   "cell_type": "code",
   "execution_count": 30,
   "metadata": {},
   "outputs": [
    {
     "data": {
      "image/png": "[encoded data removed]",
      "text/plain": [
       "<Figure size 432x288 with 1 Axes>"
      ]
     },
     "metadata": {
      "needs_background": "light"
     },
     "output_type": "display_data"
    }
   ],
   "source": [
    "plt.plot(np.arange(len(running_loss_e_VN)), running_loss_e_VN, label='Loss after each epoch')\n",
    "plt.ylabel(\"Loss\")\n",
    "plt.xlabel(\"Epoch\")\n",
    "plt.title(\"Vanilla\")\n",
    "plt.savefig('vanilla.jpg')\n",
    "plt.savefig(\"Loss per epoch Vanilla_30_epochs.png\")"
   ]
  },
  {
   "cell_type": "code",
   "execution_count": 31,
   "metadata": {},
   "outputs": [
    {
     "data": {
      "image/png": "[encoded data removed]",
      "text/plain": [
       "<Figure size 432x288 with 1 Axes>"
      ]
     },
     "metadata": {
      "needs_background": "light"
     },
     "output_type": "display_data"
    }
   ],
   "source": [
    "plt.plot(np.arange(len(running_loss_i_Reasonable)), running_loss_i_Reasonable, label='Loss after each iteration')\n",
    "plt.ylabel(\"Loss\")\n",
    "plt.xlabel(\"Iteration\")\n",
    "plt.title(\"Reasonable\")\n",
    "plt.savefig(\"Loss per iteration Reasonable_30_epochs.png\")"
   ]
  },
  {
   "cell_type": "code",
   "execution_count": 32,
   "metadata": {},
   "outputs": [
    {
     "data": {
      "image/png": "[encoded data removed]",
      "text/plain": [
       "<Figure size 432x288 with 1 Axes>"
      ]
     },
     "metadata": {
      "needs_background": "light"
     },
     "output_type": "display_data"
    }
   ],
   "source": [
    "plt.plot(np.arange(len(running_loss_i_VN)), running_loss_i_VN, label='Loss after each iteration')\n",
    "plt.ylabel(\"Loss\")\n",
    "plt.xlabel(\"Iteration\")\n",
    "plt.title(\"Vanilla\")\n",
    "plt.savefig(\"Loss per iteration Vanilla_10_epochs.png\")"
   ]
  },
  {
   "cell_type": "code",
   "execution_count": null,
   "metadata": {},
   "outputs": [],
   "source": []
  },
  {
   "cell_type": "code",
   "execution_count": null,
   "metadata": {},
   "outputs": [],
   "source": []
  },
  {
   "cell_type": "markdown",
   "metadata": {},
   "source": [
    "## UNIT testing"
   ]
  },
  {
   "cell_type": "code",
   "execution_count": 33,
   "metadata": {},
   "outputs": [],
   "source": [
    "transform = transforms.Compose([\n",
    "            transforms.ToTensor(),\n",
    "            transforms.Normalize([0.5], [0.5])\n",
    "])\n",
    "\n",
    "trainset = torchvision.datasets.MNIST(root='./data', transform=transform, train=True, download=True)\n",
    "trainloader = torch.utils.data.DataLoader(trainset, batch_size=32, shuffle=True, num_workers=2)\n",
    "\n",
    "testset = torchvision.datasets.MNIST(root='./data', transform=transform, train=False, download=True)\n",
    "testloader = torch.utils.data.DataLoader(testset, batch_size=32, shuffle=False, num_workers=2)"
   ]
  },
  {
   "cell_type": "code",
   "execution_count": 34,
   "metadata": {},
   "outputs": [],
   "source": [
    "class ON(nn.Module):\n",
    "    def __init__(self):\n",
    "        super(ON, self).__init__()\n",
    "        self.conv1 = nn.Conv2d(1, 32, 3, 1)\n",
    "        self.conv2 = nn.Conv2d(32, 32, 4, 2)\n",
    "        self.conv3 = nn.Conv2d(32, 32, 5, 1)\n",
    "        self.flat = nn.Flatten()\n",
    "        self.relu = F.relu\n",
    "        self.fc1 = nn.Linear(2048, 1024)\n",
    "        self.fc2 = nn.Linear(1024, 256)\n",
    "        self.fc3 = nn.Linear(256, 11)\n",
    "        \n",
    "    def forward(self, x):\n",
    "        x = self.relu(self.conv1(x))\n",
    "        x = self.relu(self.conv2(x))\n",
    "        x = self.relu(self.conv3(x))\n",
    "        x = self.flat(x)\n",
    "        x = self.relu(self.fc1(x))\n",
    "        x = self.relu(self.fc2(x))\n",
    "        x = self.relu(self.fc3(x))\n",
    "        return x"
   ]
  },
  {
   "cell_type": "code",
   "execution_count": 35,
   "metadata": {},
   "outputs": [
    {
     "data": {
      "text/plain": [
       "ON(\n",
       "  (conv1): Conv2d(1, 32, kernel_size=(3, 3), stride=(1, 1))\n",
       "  (conv2): Conv2d(32, 32, kernel_size=(4, 4), stride=(2, 2))\n",
       "  (conv3): Conv2d(32, 32, kernel_size=(5, 5), stride=(1, 1))\n",
       "  (flat): Flatten()\n",
       "  (fc1): Linear(in_features=2048, out_features=1024, bias=True)\n",
       "  (fc2): Linear(in_features=1024, out_features=256, bias=True)\n",
       "  (fc3): Linear(in_features=256, out_features=11, bias=True)\n",
       ")"
      ]
     },
     "execution_count": 35,
     "metadata": {},
     "output_type": "execute_result"
    }
   ],
   "source": [
    "model_ON = ON()\n",
    "device = torch.device(\"cuda:0\")\n",
    "model_ON.to(device)"
   ]
  },
  {
   "cell_type": "code",
   "execution_count": 36,
   "metadata": {},
   "outputs": [],
   "source": [
    "optimizer_ON = optim.Adam(model_ON.parameters(), lr=1e-5)\n",
    "criterion_ON = nn.CrossEntropyLoss()\n",
    "\n",
    "running_loss_i_ON = []\n",
    "running_loss_e_ON = []"
   ]
  },
  {
   "cell_type": "code",
   "execution_count": 37,
   "metadata": {},
   "outputs": [
    {
     "name": "stdout",
     "output_type": "stream",
     "text": [
      "Epoch 0 loss: 1.3936595718383789\n",
      "Epoch 1 loss: 0.6191124379873276\n",
      "Epoch 2 loss: 0.23191931735277177\n",
      "Epoch 3 loss: 0.17267186776399612\n",
      "Epoch 4 loss: 0.13511137229601541\n",
      "Epoch 5 loss: 0.11044922784169516\n",
      "Epoch 6 loss: 0.09341485852797826\n",
      "Epoch 7 loss: 0.08024376533428827\n",
      "Epoch 8 loss: 0.07049561092058818\n",
      "Epoch 9 loss: 0.0618374587615331\n"
     ]
    }
   ],
   "source": [
    "for i in range(10):\n",
    "    total_loss_ON = 0\n",
    "    \n",
    "    for images, labels in trainloader:\n",
    "        images = images.to(device); labels = labels.to(device)\n",
    "        \n",
    "        optimizer_ON.zero_grad()\n",
    "        outputs_ON = model_ON(images)\n",
    "        loss_ON = criterion_ON(outputs_ON, labels)\n",
    "        loss_ON.backward()\n",
    "        optimizer_ON.step()\n",
    "        \n",
    "        running_loss_i_ON.append(loss_ON.item())\n",
    "        total_loss_ON += loss_ON.item()        \n",
    "\n",
    "    running_loss_e_ON.append(total_loss_ON/len(trainloader))\n",
    "    \n",
    "    print(\"Epoch {} loss: {}\".format(i, total_loss_ON/len(trainloader)))"
   ]
  },
  {
   "cell_type": "code",
   "execution_count": 38,
   "metadata": {},
   "outputs": [
    {
     "data": {
      "image/png": "[encoded data removed]",
      "text/plain": [
       "<Figure size 432x288 with 1 Axes>"
      ]
     },
     "metadata": {
      "needs_background": "light"
     },
     "output_type": "display_data"
    }
   ],
   "source": [
    "plt.plot(np.arange(len(running_loss_e_ON)), running_loss_e_ON, label='Loss after each epoch')\n",
    "plt.ylabel(\"Loss\")\n",
    "plt.xlabel(\"Epoch\")\n",
    "plt.savefig(\"Loss per epoch Unit.png\")"
   ]
  },
  {
   "cell_type": "code",
   "execution_count": 39,
   "metadata": {},
   "outputs": [
    {
     "data": {
      "image/png": "[encoded data removed]",
      "text/plain": [
       "<Figure size 432x288 with 1 Axes>"
      ]
     },
     "metadata": {
      "needs_background": "light"
     },
     "output_type": "display_data"
    }
   ],
   "source": [
    "plt.plot(np.arange(len(running_loss_i_ON)), running_loss_i_ON, label='Loss after each iteration')\n",
    "plt.ylabel(\"Loss\")\n",
    "plt.xlabel(\"Iteration\")\n",
    "plt.savefig(\"loss per iter UNIT.png\")"
   ]
  },
  {
   "cell_type": "code",
   "execution_count": 40,
   "metadata": {},
   "outputs": [],
   "source": [
    "inp = torch.rand((1, 1, 28, 28))\n",
    "inp = inp.to(device)"
   ]
  },
  {
   "cell_type": "code",
   "execution_count": 41,
   "metadata": {},
   "outputs": [
    {
     "data": {
      "text/plain": [
       "ON(\n",
       "  (conv1): Conv2d(1, 32, kernel_size=(3, 3), stride=(1, 1))\n",
       "  (conv2): Conv2d(32, 32, kernel_size=(4, 4), stride=(2, 2))\n",
       "  (conv3): Conv2d(32, 32, kernel_size=(5, 5), stride=(1, 1))\n",
       "  (flat): Flatten()\n",
       "  (fc1): Linear(in_features=2048, out_features=1024, bias=True)\n",
       "  (fc2): Linear(in_features=1024, out_features=256, bias=True)\n",
       "  (fc3): Linear(in_features=256, out_features=11, bias=True)\n",
       ")"
      ]
     },
     "execution_count": 41,
     "metadata": {},
     "output_type": "execute_result"
    }
   ],
   "source": [
    "model_ON.eval()"
   ]
  },
  {
   "cell_type": "code",
   "execution_count": 42,
   "metadata": {},
   "outputs": [],
   "source": [
    "class TestData(torch.utils.data.Dataset):\n",
    "    def __init__(self):\n",
    "        self.dataset = []\n",
    "        for x in range(len(testset)):\n",
    "            self.dataset.append((torch.rand((1, 28, 28)), 10))\n",
    "        for x in range(len(testset)):\n",
    "            self.dataset.append(testset[x])\n",
    "            \n",
    "    def __len__(self):\n",
    "        return len(self.dataset)\n",
    "    \n",
    "    def __getitem__(self, idx):\n",
    "        return self.dataset[idx]\n",
    "    \n",
    "ts = TestData()\n",
    "tsloader = torch.utils.data.DataLoader(ts, batch_size=batch_size)"
   ]
  },
  {
   "cell_type": "code",
   "execution_count": null,
   "metadata": {},
   "outputs": [],
   "source": []
  }
 ],
 "metadata": {
  "kernelspec": {
   "display_name": "Python 3",
   "language": "python",
   "name": "python3"
  },
  "language_info": {
   "codemirror_mode": {
    "name": "ipython",
    "version": 3
   },
   "file_extension": ".py",
   "mimetype": "text/x-python",
   "name": "python",
   "nbconvert_exporter": "python",
   "pygments_lexer": "ipython3",
   "version": "3.6.9"
  }
 },
 "nbformat": 4,
 "nbformat_minor": 2
}
